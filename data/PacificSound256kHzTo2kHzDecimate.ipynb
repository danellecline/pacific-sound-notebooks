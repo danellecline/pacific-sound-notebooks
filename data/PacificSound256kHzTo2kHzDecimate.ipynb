{
 "nbformat": 4,
 "nbformat_minor": 0,
 "metadata": {
  "colab": {
   "name": "DemonstrateHydrophoneDecimation.ipynb",
   "private_outputs": true,
   "provenance": [],
   "collapsed_sections": [],
   "toc_visible": true
  },
  "kernelspec": {
   "display_name": "Python 3 (ipykernel)",
   "language": "python",
   "name": "python3"
  },
  "language_info": {
   "codemirror_mode": {
    "name": "ipython",
    "version": 3
   },
   "file_extension": ".py",
   "mimetype": "text/x-python",
   "name": "python",
   "nbconvert_exporter": "python",
   "pygments_lexer": "ipython3",
   "version": "3.8.11"
  }
 },
 "cells": [
  {
   "cell_type": "markdown",
   "metadata": {
    "id": "vmlzyjyZStZ3"
   },
   "source": [
    "   ![alt text](https://www.mbari.org/wp-content/uploads/2014/11/logo-mbari-3b.png \"MBARI\")\n",
    "\n",
    "  <div align=\"left\">Copyright (c) 2022, MBARI</div>\n",
    "    \n",
    "  * Distributed under the terms of the GPL License\n",
    "  * Maintainer: yzhang@mbari.org\n",
    "  * Authors: Yanwu Zhang yzhang@mbari.org, Paul McGill mcgill@mbari.org, Danelle Cline (dcline@mbari.org), John Ryan ryjo@mbari.org"
   ]
  },
  {
   "cell_type": "markdown",
   "metadata": {
    "id": "6h0JRTviT-fW"
   },
   "source": [
    "## Decimation of MARS hydrophone data\n",
    "\n",
    "An extensive (6+ years and growing) archive of sound recordings from a deep-sea location [along the eastern margin of the North Pacific Ocean](https://www.mbari.org/at-sea/cabled-observatory/) has been made available through AWS Open data.  Temporal coverage of the recording archive has been 95% since project inception in July 2015.  The original recordings have a sample rate of 256 kHz. Many research topics can be effectively studied using data with a lower sample rate, and this Open Data project includes daily files decimated to 2 kHz and 16 kHz.  The purpose of this notebook is to illustrate a method of optimizing decimation processing, which is applicable to any desired sample rate. The demonstration uses Python, but the algorithms can be implemented in other languages.\n",
    "\n",
    "This method enables design of the optimal windowed-sinc anti-aliasing low-pass filter (using a certain window) that meets the desired passband and stopband requirements based on signal retention and exclusion needs. The best combination of the sinc function’s cutoff frequency and the main-lobe bandwidth of the window function generates the shortest qualifying filter.\n",
    "\n",
    "If you use this data set, please **[cite our project](https://ieeexplore.ieee.org/document/7761363).**\n"
   ]
  },
  {
   "cell_type": "markdown",
   "metadata": {
    "id": "FpDVTEOEZ-qn"
   },
   "source": [
    "## Data Overview\n",
    "The full-resolution audio data are in [WAV](https://en.wikipedia.org/wiki/WAV) format in s3 buckets named <b>pacific-sound-256khz-yyyy</b>, where yyyy is 2015 or later.  Buckets are stored as objects, so the data aren't physically stored in folders or directories as you may be familiar with, but you can think of it conceptually as follows:\n",
    "\n",
    "```\n",
    "pacific-sound-256khz-2021\n",
    "      |\n",
    "      individual 10-minute files\n",
    "```\n"
   ]
  },
  {
   "cell_type": "markdown",
   "metadata": {
    "id": "H8P2AGrQUOxu"
   },
   "source": [
    "## Install dependencies\n",
    "First, let's install dependencies and include all packages used in this tutorial. This only needs to be done once for the duration of this notebook."
   ]
  },
  {
   "cell_type": "code",
   "metadata": {
    "id": "bu5cv0WFx3hX"
   },
   "source": [
    "!pip install -q boto3\n",
    "!pip install -q soundfile\n",
    "!pip install -q scipy\n",
    "!pip install -q numpy\n",
    "!pip install -q matplotlib\n",
    "import boto3, botocore\n",
    "from botocore import UNSIGNED\n",
    "from botocore.client import Config\n",
    "from six.moves.urllib.request import urlopen\n",
    "import io\n",
    "import math\n",
    "import scipy\n",
    "from scipy import signal, interpolate\n",
    "import numpy as np\n",
    "import soundfile as sf\n",
    "import matplotlib.pyplot as plt"
   ],
   "execution_count": null,
   "outputs": []
  },
  {
   "cell_type": "markdown",
   "metadata": {
    "id": "87EGQ0Oc5oD5"
   },
   "source": [
    "## List the contents of a monthly directory"
   ]
  },
  {
   "cell_type": "code",
   "metadata": {
    "id": "bW3CX3QM5yhy"
   },
   "source": [
    "s3 = boto3.client('s3',\n",
    "    aws_access_key_id='',\n",
    "    aws_secret_access_key='', \n",
    "    config=Config(signature_version=UNSIGNED))"
   ],
   "execution_count": null,
   "outputs": []
  },
  {
   "cell_type": "code",
   "metadata": {
    "id": "_t5aG6C66KZD"
   },
   "source": [
    "bucket = 'pacific-sound-256khz-2021'\n",
    "\n",
    "for i, obj in enumerate(s3.list_objects_v2(Bucket=bucket)['Contents']):\n",
    "  print(obj['Key'])\n",
    "  if i > 20:\n",
    "      break"
   ],
   "execution_count": null,
   "outputs": []
  },
  {
   "cell_type": "markdown",
   "metadata": {
    "id": "636LHKTbAgNf"
   },
   "source": [
    "## Read metadata from a file"
   ]
  },
  {
   "cell_type": "code",
   "metadata": {
    "id": "X2y_ADUFWOKP"
   },
   "source": [
    "bucket = 'pacific-sound-256khz-2021'\n",
    "filename = '09/MARS_20210915_070829.wav'\n",
    "url = f'https://{bucket}.s3.amazonaws.com/{filename}'\n",
    "print(f'Reading metadata from {url}')\n",
    "sf.info(io.BytesIO(urlopen(url).read(1000)), verbose=True) "
   ],
   "execution_count": null,
   "outputs": []
  },
  {
   "cell_type": "markdown",
   "metadata": {
    "id": "gwPjvjiV9QQe"
   },
   "source": [
    "## Read data from a file"
   ]
  },
  {
   "cell_type": "code",
   "metadata": {
    "id": "wJxcSooA8vsH"
   },
   "source": [
    "print(f'Reading data from {url}')\n",
    "x, sample_rate = sf.read(io.BytesIO(urlopen(url).read()),dtype='float32')"
   ],
   "execution_count": null,
   "outputs": []
  },
  {
   "cell_type": "markdown",
   "metadata": {
    "id": "l1atl4qLRXo2"
   },
   "source": [
    "## Produce a spectrogram"
   ]
  },
  {
   "cell_type": "markdown",
   "metadata": {
    "id": "1JZRxlnaIOhP"
   },
   "source": [
    "### Calibrated Spectrum Levels"
   ]
  },
  {
   "cell_type": "markdown",
   "metadata": {
    "id": "9xRmK05jAu_N"
   },
   "source": [
    "### Calibration metadata\n",
    "Frequency-dependent hydrophone sensitivity data are defined in the following files, one for each deployment:\n",
    "*   https://bitbucket.org/mbari/pacific-sound/src/master/MBARI_MARS_Hydrophone_Deployment01.json\n",
    "*   https://bitbucket.org/mbari/pacific-sound/src/master/MBARI_MARS_Hydrophone_Deployment02.json"
   ]
  },
  {
   "cell_type": "markdown",
   "metadata": {
    "id": "WGHEshKmDGI9"
   },
   "source": [
    "### Compute spectrogram\n",
    "\n",
    "\n"
   ]
  },
  {
   "cell_type": "code",
   "metadata": {
    "id": "fPpKJNNeE5uX"
   },
   "source": [
    "# convert scaled voltage to volts\n",
    "v = x*3 \n",
    "nsec = (v.size)/sample_rate # number of seconds in vector\n",
    "spa = 1  # seconds per average\n",
    "nseg = int(nsec/spa)\n",
    "print(f'{nseg} segments of length {spa} seconds in {nsec} seconds of audio')"
   ],
   "execution_count": null,
   "outputs": []
  },
  {
   "cell_type": "code",
   "metadata": {
    "id": "DsGL1RtBjPtT"
   },
   "source": [
    "lenfft_input = 2**int(np.ceil(np.log2(sample_rate)))\n",
    "print(lenfft_input)\n",
    "#\n",
    "# initialize empty LTSA\n",
    "nfreq = int(lenfft_input/2+1)\n",
    "sg_input = np.empty((nfreq, nseg), float)\n",
    "sg_input.shape"
   ],
   "execution_count": null,
   "outputs": []
  },
  {
   "cell_type": "code",
   "metadata": {
    "id": "aVUit5RRk5YO"
   },
   "source": [
    "# get window\n",
    "w_input = scipy.signal.get_window('blackman',sample_rate)\n",
    "window_correction = np.mean(np.square(w_input))\n",
    "#\n",
    "numDataPoints_input = int(sample_rate*spa)\n",
    "#\n",
    "Ind_keep = np.arange(0, int(lenfft_input/2)+1)\n",
    "f_input = (Ind_keep/lenfft_input) * sample_rate\n",
    "#\n",
    "# Calculate spectrogram\n",
    "for x in range(0,nseg):\n",
    "  cstart = x*spa*sample_rate\n",
    "  cend = (x+1)*spa*sample_rate\n",
    "#  f,psd = scipy.signal.welch(v[cstart:cend], fs=sample_rate, window=w_input, nfft=sample_rate)\n",
    "  psd_input = np.square(np.absolute(np.fft.fft(np.multiply(v[cstart:cend],w_input), n=lenfft_input)))/(numDataPoints_input*window_correction)/sample_rate\n",
    "  psd_input_log10 = 10*np.log10(psd_input[Ind_keep])\n",
    "  sg_input[:,x] = psd_input_log10\n",
    "  if (x == 0):\n",
    "    psd_input_check = psd_input\n",
    "    print(\"Comparing power of the input signal computed in the time domain versus that computed in the frequency domain:\")\n",
    "    print(np.mean(np.square(v[cstart:cend])))\n",
    "    print(sum(psd_input_check)*(sample_rate/lenfft_input))"
   ],
   "execution_count": null,
   "outputs": []
  },
  {
   "cell_type": "markdown",
   "metadata": {
    "id": "mwdPe9snBoky"
   },
   "source": [
    "### Apply calibration\n",
    "Frequency-dependent hydrophone sensitivity data are reported in the json files identified above.  This example file is from the second hydrophone deployment, for which the calibration data are manually entered below.  Note that the lowest measured value, at 250 Hz, is assumed to cover lower frequencies and repeated as a value at 0 Hz to allow interpolation to the spectrogram output frequencies across the full frequency range. \n",
    "\n"
   ]
  },
  {
   "cell_type": "code",
   "metadata": {
    "id": "-rp6Ca76B9p9"
   },
   "source": [
    "# define hydrophone calibration data\n",
    "calfreq = [0,250,10000,20100,30100,40200,50200,60200,70300,80300,90400,100400,110400,120500,130500,140500,150600,160600,170700,180700,190700,200000]\n",
    "calsens = [-177.90,-177.90,-176.80,-176.35,-177.05,-177.35,-177.30,-178.05,-178.00,-178.40,-178.85,-180.25,-180.50,-179.90,-180.15,-180.20,-180.75,-180.90,-181.45,-181.30,-180.75,-180.30]\n",
    "\n",
    "# interpolate to the frequency resolution of the spectrogram\n",
    "tck = interpolate.splrep(calfreq, calsens, s=0)\n",
    "isens = interpolate.splev(f_input, tck, der=0)\n",
    "plt.figure(dpi=300)\n",
    "im = plt.plot(calfreq,calsens,'bo',f_input,isens,'g') \n",
    "plt.xlabel('Frequency (Hz)')\n",
    "plt.ylabel('Hydrophone sensitivity (dB re V/uPA)')\n",
    "plt.legend(['Factory, measured', 'Interpolated'])\n"
   ],
   "execution_count": null,
   "outputs": []
  },
  {
   "cell_type": "code",
   "metadata": {
    "id": "PLuyi1tzWKAM"
   },
   "source": [
    "# replicate interpolated sensitivity\n",
    "isensg = np.transpose(np.tile(isens,[nseg,1]))\n",
    "isensg.shape"
   ],
   "execution_count": null,
   "outputs": []
  },
  {
   "cell_type": "code",
   "metadata": {
    "id": "NSDCW8h3XX4s"
   },
   "source": [
    "sg_input.shape"
   ],
   "execution_count": null,
   "outputs": []
  },
  {
   "cell_type": "markdown",
   "metadata": {
    "id": "JhXzdmYONg9V"
   },
   "source": [
    "### Plot the calibrated spectrogram"
   ]
  },
  {
   "cell_type": "code",
   "metadata": {
    "id": "9VCFPEbkVWHd"
   },
   "source": [
    "plt.figure(dpi=300)\n",
    "im = plt.imshow(sg_input-isensg,aspect='auto',origin='lower',vmin=28,vmax=95)\n",
    "plt.yscale('log')\n",
    "plt.ylim(10,100000)\n",
    "plt.colorbar(im)\n",
    "plt.xlabel('Seconds')\n",
    "plt.ylabel('Frequency (Hz)')\n",
    "plt.title('Calibrated spectrum levels (dB) of the 256 kHz sample-rate input data')"
   ],
   "execution_count": null,
   "outputs": []
  },
  {
   "cell_type": "markdown",
   "metadata": {
    "id": "oD8_n37BQ2cU"
   },
   "source": [
    "## Decimate\n",
    "In this example, we will decimate the raw data from the original sample rate of 256 kHz down to the final output sample rate of 2 kHz.  This decimation processing can be organized into a few steps, as defined below."
   ]
  },
  {
   "cell_type": "markdown",
   "metadata": {
    "id": "01Ve2KXeR4Fl"
   },
   "source": [
    "### Step 1: Allocate the decimation task to two concatenated stages.\n"
   ]
  },
  {
   "cell_type": "code",
   "metadata": {
    "id": "ndA_Njm4Hwvx"
   },
   "source": [
    "samplingfreq_output_final = 2e3 # In Hz.\n",
    "ratio_downsampling = int(sample_rate/samplingfreq_output_final)\n",
    "#\n",
    "# Allocate the decimation to two stages: ratio_downsampling = ratio_downsampling_1st_stage * ratio_downsampling_2nd_stage\n",
    "# using the algorithm in R. Crochiere and L. Rabiner, L, \"Optimum FIR Digital Implementations for Decimation, Interpolation, and Narrow-Band Filtering, \" \n",
    "# IEEE Transactions on Acoustic, Speech, and Signal Processing, ASSP-23(5), pp. 444-456, 1975.\n",
    "#\n",
    "ratio_BWoverNyquistfreq = 0.1 # Assuming that in the 2nd stage, the ratio of transition bandwidth over Nyquist frequency is 0.1\n",
    "ratio_downsampling_1st_stage_tmp = 2.0 * ratio_downsampling *\\\n",
    "  (1.0-math.sqrt(ratio_downsampling*ratio_BWoverNyquistfreq/(2.0-ratio_BWoverNyquistfreq)))/\\\n",
    "  (2.0-ratio_BWoverNyquistfreq*(ratio_downsampling+1))\n",
    "#\n",
    "# Find the integer closest to ratio_downsampling_1st_stage_tmp, and assign this integer value to ratio_downsampling_1st_stage\n",
    "ratio_downsampling_1st_stage = 2 # Initialized.\n",
    "diff = ratio_downsampling # Initialized.\n",
    "for k in range(2, ratio_downsampling):\n",
    "  if (ratio_downsampling%k == 0):\n",
    "    if (abs(ratio_downsampling_1st_stage_tmp-k) < diff):\n",
    "      diff = abs(ratio_downsampling_1st_stage_tmp-k)\n",
    "      ratio_downsampling_1st_stage = k\n",
    "#\n",
    "ratio_downsampling_2nd_stage = int(ratio_downsampling / ratio_downsampling_1st_stage)\n",
    "samplingfreq_output_1st_stage = sample_rate / ratio_downsampling_1st_stage # Sampling frequency of the 1st-stage decimation output\n",
    "#\n",
    "print('Raw data sample rate = ' + str(int(sample_rate)) + ' Hz. Final output sample rate = ' + str(int(samplingfreq_output_final)) + ' Hz. Overall decimation factor = ' + str(int(ratio_downsampling)))\n",
    "print('1st-stage decimator reduces sample rate from ' + str(int(sample_rate)) + ' Hz to ' + str(int(samplingfreq_output_1st_stage)) + ' Hz, at a decimation factor of ' + str(int(ratio_downsampling_1st_stage)))\n",
    "print('2nd-stage decimator reduces sample rate from ' + str(int(samplingfreq_output_1st_stage)) + ' Hz to ' + str(int(samplingfreq_output_final)) + ' Hz, at a decimation factor of ' + str(int(ratio_downsampling_2nd_stage)))"
   ],
   "execution_count": null,
   "outputs": []
  },
  {
   "cell_type": "markdown",
   "metadata": {
    "id": "XItfD3mZqCFK"
   },
   "source": [
    "###Step 2: Design the optimized windowed-sinc anti-aliasing filter in each stage."
   ]
  },
  {
   "cell_type": "code",
   "metadata": {
    "id": "ZjuyfN66WSRZ"
   },
   "source": [
    "def BlackmanSincFilter(samplingfreq_in, samplingfreq_out, samplingfreq_output_final):\n",
    "# Blackman window parameters:\n",
    "    alpha = 0.16\n",
    "    a0 = (1.0-alpha)/2.0\n",
    "    a1 = 0.5\n",
    "    a2 = alpha/2.0\n",
    "#\n",
    "    lenDFT = 2**14 # Number of FFT data points. Frequency resolution = samplingfreq_in/lenDFT\n",
    "    VectorDFT = np.arange(0, int(lenDFT/2), 1, int)\n",
    "#\n",
    "    thresh_dB_stopband = -74.0 # Stopband attenuation when using Blackman filter.\n",
    "#\n",
    "    if (samplingfreq_out != samplingfreq_output_final): # 1st-stage\n",
    "        thresh_dB_passband = -0.1\n",
    "        passfreq = samplingfreq_output_final/2.0\n",
    "        stopfreq = samplingfreq_out - passfreq\n",
    "# For example, in decimation 256 kHz --> 8 kHz --> 2 kHz,\n",
    "# for the 1st-stage filter: samplingfreq_in = sample_rate = 256 kHz, samplingfreq_out = 8 kHz.\n",
    "# passfreq = 2kHz/2 = 1 kHz. Thus the passband is from zero to 1 kHz.\n",
    "# stopfreq = 8 kHz - 1 kHz = 7 kHz. Thus the stopband is from 7 kHz to 128 kHz. (4 kHz is the Nyquist frequency of the 1st-stage filter.)\n",
    "# When the data is down-sampled from 256 kHz to 8 kHz,\n",
    "# the passband spectrum from 4 kHz to 7 kHz is aliased and folded back to 1 kHz to 4 kHz.\n",
    "# Nonetheless, this aliased spectral section (1-4 kHz) will be filtered out in the 2nd-stage decimation.\n",
    "        deltafreq = 100.0 # In Hz. Resolution of the search grid.\n",
    "        MLW = (stopfreq-passfreq) + np.arange(0.0,  (deltafreq*(50+1)), deltafreq, float)\n",
    "# We want the MLW search range to be sufficiently wide yet not too wide in order to reduce computation.\n",
    "# This range is wider for the 1st-stage filter than for the 2nd-stage filter.\n",
    "# This range may need adjustment for different values of samplingfreq_in.\n",
    "    else:\n",
    "        thresh_dB_passband = -1.0\n",
    "        bufferband = 100.0 # In Hz. Only for 2nd-stage filter. 256 kHz --> 32 kHz --> 16 kHz,\n",
    "        passfreq = (samplingfreq_out/2.0) - bufferband\n",
    "        stopfreq = samplingfreq_out/2.0\n",
    "# For example, in decimation 256 kHz --> 8 kHz --> 2 kHz,\n",
    "# for the 2nd-stage filter: samplingfreq_in = 8 kHz, samplingfreq_out = samplingfreq_output_final = 2 kHz.\n",
    "# passfreq = 2kHz/2 - 100 Hz = 900 Hz. Thus the passband is from zero to 900 Hz.\n",
    "# stopfreq = 2kHz/2 = 1 kHz. Thus the stopband is from 1 kHz to 4 kHz. (4 kHz is the Nyquist frequency of the 2nd-stage filter.)\n",
    "        deltafreq = 10.0 # In Hz. Resolution of the search grid.\n",
    "        MLW = (stopfreq-passfreq) + np.arange(0.0, (deltafreq*(20+1)), deltafreq, float)\n",
    "#\n",
    "    Cutofffreq_sinc = np.arange(passfreq, stopfreq + deltafreq, deltafreq)\n",
    "#\n",
    "    Freq = (VectorDFT/lenDFT)*samplingfreq_in\n",
    "    Ind_passband = np.where(Freq <= passfreq)\n",
    "    Ind_stopband = np.where(Freq >= stopfreq)\n",
    "#\n",
    "    Filterlength_Blackman_satisfactory = np.empty((len(Cutofffreq_sinc), len(MLW)))\n",
    "    Filterlength_Blackman_satisfactory[:] = np.NaN\n",
    "#\n",
    "    for k in range(len(MLW)):\n",
    "        transitionMLW_radian = (MLW[k] / (samplingfreq_in / 2.0)) * math.pi\n",
    "        filterlength_Blackman_0 = math.ceil(12.0*math.pi/transitionMLW_radian)\n",
    "        if (filterlength_Blackman_0%2 == 0):\n",
    "            filterlength_Blackman = filterlength_Blackman_0 + 1\n",
    "        else:\n",
    "            filterlength_Blackman = filterlength_Blackman_0\n",
    "# We want filterlength_Blackman to be an odd number,\n",
    "# so that the filter-induced delay (filterlength_Blackman-1)/2 is an integer. Used below.\n",
    "        Vectortmp = np.arange(0, filterlength_Blackman)\n",
    "        Vectortmp2 = Vectortmp/(filterlength_Blackman-1)\n",
    "        Window_Blackman = a0 - a1*np.cos(2.0*math.pi*Vectortmp2) + a2*np.cos(4.0*math.pi*Vectortmp2)\n",
    "#\n",
    "        for m in range(len(Cutofffreq_sinc)):\n",
    "            SincFun = np.sinc(2.0*(Cutofffreq_sinc[m]/samplingfreq_in)*(Vectortmp-((filterlength_Blackman-1)/2)))\n",
    "            Filter_Blackman_0 = np.multiply(SincFun, Window_Blackman)\n",
    "            Filter_Blackman = Filter_Blackman_0/np.sum(Filter_Blackman_0)\n",
    "            DFT_filter_Blackman_0 = np.fft.fft(Filter_Blackman, lenDFT)\n",
    "            DFT_filter_Blackman = DFT_filter_Blackman_0[0:int(lenDFT/2)]\n",
    "            Mag_dB = 20.0*np.log10(np.abs(DFT_filter_Blackman[VectorDFT]))\n",
    "            if ((min(Mag_dB[Ind_passband]) >= thresh_dB_passband) and (max(Mag_dB[Ind_stopband]) <= thresh_dB_stopband)):\n",
    "                Filterlength_Blackman_satisfactory[m][k] = filterlength_Blackman\n",
    "#\n",
    "    Vec_filterlength_Blackman_satisfactory = np.reshape(Filterlength_Blackman_satisfactory, (1, (len(MLW)*len(Cutofffreq_sinc))), order='F')\n",
    "    indtmp = np.nanargmin(Vec_filterlength_Blackman_satisfactory)\n",
    "    ind_MLW_minfilterlength = math.floor(indtmp/len(Cutofffreq_sinc))\n",
    "    ind_CutofffreqSinc_minfilterlength = indtmp - (ind_MLW_minfilterlength * len(Cutofffreq_sinc))\n",
    "#\n",
    "# Having found the optimized combination of MLW and CutofffreqSinc, now we formulate the optimal Blackman-sinc low-pass filter:\n",
    "    transitionMLW_radian = (MLW[ind_MLW_minfilterlength] / (samplingfreq_in/2.0)) * math.pi\n",
    "    filterlength_Blackman_0 = math.ceil(12.0*math.pi/transitionMLW_radian)\n",
    "    if (filterlength_Blackman_0%2 == 0):\n",
    "        filterlength_Blackman = filterlength_Blackman_0 + 1\n",
    "    else:\n",
    "        filterlength_Blackman = filterlength_Blackman_0\n",
    "#\n",
    "    Vectortmp = np.arange(0, filterlength_Blackman)\n",
    "    Vectortmp2 = Vectortmp/(filterlength_Blackman-1)\n",
    "    Window_Blackman = a0 - a1*np.cos(2.0*math.pi*Vectortmp2) + a2*np.cos(4.0*math.pi*Vectortmp2)\n",
    "    SincFun = np.sinc(2.0*(Cutofffreq_sinc[ind_CutofffreqSinc_minfilterlength]/samplingfreq_in)*(Vectortmp-((filterlength_Blackman-1)/2)))\n",
    "    Filter_Blackman_0 = np.multiply(SincFun, Window_Blackman)\n",
    "    Filter_Blackman = Filter_Blackman_0 / np.sum(Filter_Blackman_0)\n",
    "    return Filter_Blackman\n",
    "#\n",
    "#\n",
    "Filter_1st_stage = BlackmanSincFilter(sample_rate, samplingfreq_output_1st_stage, samplingfreq_output_final)\n",
    "Filter_2nd_stage = BlackmanSincFilter(samplingfreq_output_1st_stage, samplingfreq_output_final, samplingfreq_output_final)\n",
    "#\n",
    "print('Length of first stage filter: ' + str(int(len(Filter_1st_stage))))\n",
    "print('Length of second stage filter: ' + str(int(len(Filter_2nd_stage))))\n",
    "#print(np.sum(Filter_1st_stage))\n",
    "#print(np.sum(Filter_2nd_stage))"
   ],
   "execution_count": null,
   "outputs": []
  },
  {
   "cell_type": "markdown",
   "metadata": {
    "id": "1og0bPvkq8eR"
   },
   "source": [
    "###Step 3: Run the raw input data through the 1st-stage filter, downsample, then through the 2nd-stage filter, and down-sample again."
   ]
  },
  {
   "cell_type": "code",
   "metadata": {
    "id": "TRi6fnCVVZVB"
   },
   "source": [
    "S_filtered_1_full = np.convolve(v, Filter_1st_stage, 'full')\n",
    "S_filtered_1 = S_filtered_1_full[0:len(v)]\n",
    "S_filtered_1_decimated = S_filtered_1[0:len(S_filtered_1):ratio_downsampling_1st_stage]\n",
    "S_filtered_2 = np.convolve(S_filtered_1_decimated, Filter_2nd_stage, 'same');\n",
    "S_filtered_2_decimated = S_filtered_2[0:len(S_filtered_2):ratio_downsampling_2nd_stage]\n",
    "#\n",
    "# Verify power is conserved through the decimation process:\n",
    "#print(np.mean(np.square(S_filtered_1[0:sample_rate])))\n",
    "#print(np.mean(np.square(S_filtered_1_decimated[0:int(sample_rate/ratio_downsampling_1st_stage)])))\n",
    "#print(np.mean(np.square(S_filtered_2[0:int(sample_rate/ratio_downsampling_1st_stage)])))\n",
    "#print(np.mean(np.square(S_filtered_2_decimated[0:int(samplingfreq_output_final)])))\n",
    "#print(S_filtered_1_decimated.size)\n",
    "#print(S_filtered_2_decimated.size)"
   ],
   "execution_count": null,
   "outputs": []
  },
  {
   "cell_type": "markdown",
   "metadata": {
    "id": "tbTNvyzoR93V"
   },
   "source": [
    "### Compute and plot the spectrogram of the decimated data\n"
   ]
  },
  {
   "cell_type": "code",
   "metadata": {
    "id": "ySyr9IcRyfW6"
   },
   "source": [
    "nsec_decimated = (S_filtered_2_decimated.size)/samplingfreq_output_final # number of seconds in vector\n",
    "nseg_decimated = int(nsec_decimated/spa)\n",
    "print('{nseg} segments of length {spa} seconds in {nsec} seconds of audio')\n",
    "#\n",
    "lenfft_decimated = 2**int(np.ceil(np.log2(samplingfreq_output_final)))\n",
    "print(lenfft_decimated)\n",
    "#\n",
    "numDataPoints_decimated = int(samplingfreq_output_final*spa)\n",
    "#\n",
    "Ind_keep_decimated = np.arange(int(0), int(lenfft_decimated/2+1))\n",
    "f_decimated = (Ind_keep_decimated/lenfft_decimated) * samplingfreq_output_final\n",
    "#\n",
    "# initialize empty LTSA\n",
    "nfreq_decimated = int(lenfft_decimated/2+1)\n",
    "sg_decimated = np.empty((nfreq_decimated, nseg_decimated), float)\n",
    "#\n",
    "# get window\n",
    "w_decimated = scipy.signal.get_window('blackman', numDataPoints_decimated)\n",
    "# Calculate spectrogram\n",
    "for x_decimated in range(0,nseg_decimated):\n",
    "  cstart_decimated = x_decimated*spa*int(samplingfreq_output_final)\n",
    "  cend_decimated = (x_decimated+1)*spa*int(samplingfreq_output_final)\n",
    "#  f_decimated,psd_decimated = scipy.signal.welch(S_filtered_2_decimated[cstart_decimated:cend_decimated], fs=samplingfreq_output_final, window=w_decimated, noverlap=0, nfft=lenfft_decimated)\n",
    "  psd_decimated = (np.square(np.absolute(np.fft.fft(np.multiply(S_filtered_2_decimated[cstart_decimated:cend_decimated],w_decimated), n=lenfft_decimated))))/(numDataPoints_decimated*window_correction)/samplingfreq_output_final\n",
    "#  \n",
    "  psd_decimated_log10 = 10*np.log10(psd_decimated[Ind_keep_decimated])\n",
    "  sg_decimated[:,x_decimated] = np.transpose(psd_decimated_log10)\n",
    "#\n",
    "  if (x == 0):\n",
    "    psd_decimated_check = psd_decimated\n",
    "    print(\"Comparing power of the decimated signal computed in the time domain versus that computed in the frequency domain:\")\n",
    "    print(np.mean(np.square(v[cstart:cend])))\n",
    "    print(sum(psd_decimated_check)*(samplingfreq_output_final/lenfft_decimated))\n",
    "#\n",
    "isens_FreqRangeAfterDecimation = interpolate.splev(f_decimated, tck, der=0)\n",
    "isensg_FreqRangeAfterDecimation = np.transpose(np.tile(isens_FreqRangeAfterDecimation,[nseg,1]))\n",
    "#\n",
    "Extent = [0, nseg_decimated-1, 0.0, samplingfreq_output_final/2.0]\n",
    "plt.figure(dpi=300)\n",
    "im = plt.imshow(sg_decimated-isensg_FreqRangeAfterDecimation, aspect='auto', origin='lower', extent=Extent, vmin=28,vmax=95)\n",
    "plt.yscale('log')\n",
    "plt.ylim(10,1e3)\n",
    "plt.colorbar(im)\n",
    "plt.xlabel('Seconds')\n",
    "plt.ylabel('Frequency (Hz)')\n",
    "plt.title('Calibrated spectrum levels (dB) of the 2 kHz sample-rate decimated data')"
   ],
   "execution_count": null,
   "outputs": []
  },
  {
   "cell_type": "markdown",
   "metadata": {
    "id": "5LvIjY6KW5J9"
   },
   "source": [
    "###Compare PSDs of the input data and the decimated data for verification purposes"
   ]
  },
  {
   "cell_type": "code",
   "metadata": {
    "id": "Yo-SPrs98mXa"
   },
   "source": [
    "plt.figure(dpi=300)\n",
    "plt.plot(f_decimated, sg_decimated[:,0], label='256-kHz sample-rate input data')\n",
    "plt.plot(f_input, sg_input[:,0], label='Decimated 2-kHz sample-rate decimated data')\n",
    "plt.xlim(10,1e3)\n",
    "plt.xlabel('Frequency (Hz)')\n",
    "plt.xscale('log')\n",
    "plt.ylabel('PSD (dB)')\n",
    "plt.title('Comparison of PSDs of one-second data')\n",
    "plt.legend()"
   ],
   "execution_count": null,
   "outputs": []
  }
 ]
}