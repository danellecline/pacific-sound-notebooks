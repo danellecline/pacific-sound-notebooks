{
 "cells": [
  {
   "cell_type": "markdown",
   "metadata": {
    "id": "vmlzyjyZStZ3"
   },
   "source": [
    "   ![alt text](https://www.mbari.org/wp-content/uploads/2014/11/logo-mbari-3b.png \"MBARI\")\n",
    "\n",
    "  <div align=\"left\">Copyright (c) 2021, MBARI</div>\n",
    "    \n",
    "  * Distributed under the terms of the GPL License\n",
    "  * Maintainer: dcline@mbari.org\n",
    "  * Authors: Danelle Cline dcline@mbari.org, John Ryan ryjo@mbari.org"
   ]
  },
  {
   "cell_type": "markdown",
   "metadata": {
    "id": "6h0JRTviT-fW"
   },
   "source": [
    "## Basic Exploration of the 2 kHz Pacific Ocean Audio Data in the AWS Open Data Registry\n",
    "\n",
    "---\n",
    "An extensive (5+ years and growing) archive of sound recordings from a deep-sea location [along the eastern margin of the North Pacific Ocean](https://www.mbari.org/at-sea/cabled-observatory/) has been made available through AWS Open data.  Temporal coverage of the recording archive has been 95% since project inception in July 2015.  The original recordings have a sample rate of 256 kHz.  For many research applications it is convenient to work with data having a lower sample rate.  This notebook illustrates basic methods to access and process a calibrated spectrogram from the decimated 2 kHz audio archive.\n",
    "\n",
    "If you use this data set, please **[cite our project](https://ieeexplore.ieee.org/document/7761363).**\n"
   ]
  },
  {
   "cell_type": "markdown",
   "metadata": {
    "id": "FpDVTEOEZ-qn"
   },
   "source": [
    "## Data Overview\n",
    "The decimated audio data are in [WAV](https://en.wikipedia.org/wiki/WAV) format in an s3 bucket named <b>pacific-sound-2khz</b>.  They are further organized by year and month.  Buckets are stored as objects, so the data isn't physically stored in folders or directories as you may be famaliar with, but you can think of it conceptually as follows:\n",
    "\n",
    "```\n",
    "pacific-sound-2khz\n",
    "      |\n",
    "      ----2020\n",
    "        |\n",
    "        |----01\n",
    "        ...\n",
    "        |----12\n",
    "```\n"
   ]
  },
  {
   "cell_type": "markdown",
   "metadata": {
    "id": "H8P2AGrQUOxu"
   },
   "source": [
    "## Install dependencies\n",
    "First, let's install dependencies and include all packages used in this tutorial. This only needs to be done once for the duration of this notebook."
   ]
  },
  {
   "cell_type": "code",
   "execution_count": null,
   "metadata": {
    "id": "bu5cv0WFx3hX"
   },
   "outputs": [],
   "source": [
    "!pip install -q boto3\n",
    "!pip install -q soundfile\n",
    "!pip install -q scipy\n",
    "!pip install -q numpy\n",
    "!pip install -q matplotlib\n",
    "import boto3, botocore\n",
    "from botocore import UNSIGNED\n",
    "from botocore.client import Config\n",
    "from six.moves.urllib.request import urlopen\n",
    "import io\n",
    "import scipy\n",
    "from scipy import signal\n",
    "import numpy as np\n",
    "import soundfile as sf\n",
    "import matplotlib.pyplot as plt"
   ]
  },
  {
   "cell_type": "markdown",
   "metadata": {
    "id": "87EGQ0Oc5oD5"
   },
   "source": [
    "## List the contents of a monthly directory"
   ]
  },
  {
   "cell_type": "code",
   "execution_count": null,
   "metadata": {
    "id": "bW3CX3QM5yhy"
   },
   "outputs": [],
   "source": [
    "s3 = boto3.client('s3',\n",
    "    aws_access_key_id='',\n",
    "    aws_secret_access_key='', \n",
    "    config=Config(signature_version=UNSIGNED))"
   ]
  },
  {
   "cell_type": "code",
   "execution_count": null,
   "metadata": {
    "id": "_t5aG6C66KZD"
   },
   "outputs": [],
   "source": [
    "year = \"2020\"\n",
    "month = \"01\"\n",
    "bucket = 'pacific-sound-2khz'\n",
    "\n",
    "for obj in s3.list_objects_v2(Bucket=bucket, Prefix=f'{year}/{month}')['Contents']:\n",
    "    print(obj['Key'])"
   ]
  },
  {
   "cell_type": "markdown",
   "metadata": {
    "id": "636LHKTbAgNf"
   },
   "source": [
    "## Retrieve metadata for a file"
   ]
  },
  {
   "cell_type": "code",
   "execution_count": null,
   "metadata": {
    "id": "X2y_ADUFWOKP"
   },
   "outputs": [],
   "source": [
    "year = \"2020\"\n",
    "month = \"01\"\n",
    "filename = 'MARS-20200101T000000Z-2kHz.wav'\n",
    "bucket = 'pacific-sound-2khz'\n",
    "key = f'{year}/{month}/{filename}'\n",
    "\n",
    "url = f'https://{bucket}.s3.amazonaws.com/{key}'\n",
    "\n",
    "sf.info(io.BytesIO(urlopen(url).read(20_000)), verbose=True) "
   ]
  },
  {
   "cell_type": "markdown",
   "metadata": {
    "id": "1JZRxlnaIOhP"
   },
   "source": [
    "## Calibrated Spectrum Levels"
   ]
  },
  {
   "cell_type": "markdown",
   "metadata": {
    "id": "WGHEshKmDGI9"
   },
   "source": [
    "### Produce calibrated spectrogram for a full day\n",
    "For the low-frequency (2 kHz) data, calibration data are not frequency dependent; a single low-frequency calibration value is used.  Its value depends on time of data collection, as two hydrophones have been deployed sequentially at the same site.  Before 14 June 2017, the calibration value is -168.8 dB re V / uPa (measured at 26 Hz).  After this date the value is -177.9 dB re V / uPa (measured at 250 Hz).  See also:\n",
    "\n",
    "\n",
    "*   https://bitbucket.org/mbari/pacific-sound/src/master/MBARI_MARS_Hydrophone_Deployment01.json\n",
    "*   https://bitbucket.org/mbari/pacific-sound/src/master/MBARI_MARS_Hydrophone_Deployment02.json\n",
    "\n",
    "\n"
   ]
  },
  {
   "cell_type": "code",
   "execution_count": null,
   "metadata": {
    "id": "fPpKJNNeE5uX"
   },
   "outputs": [],
   "source": [
    "# create a 1-Hz x n second calibrated spectrogram at 1 second resolution\n",
    "print(f'Reading from {url}')\n",
    "x, sample_rate = sf.read(io.BytesIO(urlopen(url).read()),dtype='float32') \n",
    "v = x*3   # convert scaled voltage to volts\n",
    "v.shape, v.size, sample_rate\n",
    "a = np.arange(v.size)+1\n",
    "# define segment processing\n",
    "nsec = (v.size)/sample_rate # number of seconds in vector\n",
    "spa = 60  # seconds per average\n",
    "nseg = int(nsec/spa)\n",
    "print(f'{nseg} segments of length {spa} seconds in {nsec} seconds of audio')"
   ]
  },
  {
   "cell_type": "code",
   "execution_count": null,
   "metadata": {
    "id": "DsGL1RtBjPtT"
   },
   "outputs": [],
   "source": [
    "# initialize empty LTSA\n",
    "nfreq = int(sample_rate/2+1)\n",
    "nfreq,nseg\n",
    "LTSA = np.empty((nfreq, nseg), float)\n",
    "LTSA.shape"
   ]
  },
  {
   "cell_type": "code",
   "execution_count": null,
   "metadata": {
    "id": "aVUit5RRk5YO"
   },
   "outputs": [],
   "source": [
    "# get window for welch\n",
    "w = scipy.signal.get_window('hann',sample_rate)\n",
    "\n",
    "# process LTSA\n",
    "for x in range(0,nseg):\n",
    "  cstart = x*spa*sample_rate\n",
    "  cend = (x+1)*spa*sample_rate\n",
    "  f,psd = scipy.signal.welch(v[cstart:cend],fs=sample_rate,window=w,nfft=sample_rate)\n",
    "  psd = 10*np.log10(psd) + 177.9\n",
    "  LTSA[:,x] = psd"
   ]
  },
  {
   "cell_type": "code",
   "execution_count": null,
   "metadata": {
    "id": "89NfOR3WDWjf"
   },
   "outputs": [],
   "source": [
    "nsec, nseg, LTSA.shape"
   ]
  },
  {
   "cell_type": "markdown",
   "metadata": {
    "id": "JhXzdmYONg9V"
   },
   "source": [
    "### Plot the calibrated spectrogram\n",
    "Note: The sharp drop in signal approaching 1 kHz reflects the attributes of the decimation filter applied to produce the 2 kHZ data from the original 256 kHz data."
   ]
  },
  {
   "cell_type": "code",
   "execution_count": null,
   "metadata": {
    "id": "9VCFPEbkVWHd"
   },
   "outputs": [],
   "source": [
    "plt.figure(dpi=300)\n",
    "im = plt.imshow(LTSA,aspect='auto',origin='lower',vmin=30,vmax=100)\n",
    "plt.yscale('log')\n",
    "plt.ylim(10,1000)\n",
    "plt.colorbar(im)\n",
    "plt.xlabel('Minute of day')\n",
    "plt.ylabel('Frequency (Hz)')\n",
    "plt.title('Calibrated spectrum levels')"
   ]
  }
 ],
 "metadata": {
  "colab": {
   "collapsed_sections": [],
   "machine_shape": "hm",
   "name": "PacificSound_2kHz.ipynb",
   "private_outputs": true,
   "provenance": []
  },
  "kernelspec": {
   "display_name": "Python 3 (ipykernel)",
   "language": "python",
   "name": "python3"
  },
  "language_info": {
   "codemirror_mode": {
    "name": "ipython",
    "version": 3
   },
   "file_extension": ".py",
   "mimetype": "text/x-python",
   "name": "python",
   "nbconvert_exporter": "python",
   "pygments_lexer": "ipython3",
   "version": "3.7.11"
  }
 },
 "nbformat": 4,
 "nbformat_minor": 1
}
